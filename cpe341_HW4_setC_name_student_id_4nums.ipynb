{
 "cells": [
  {
   "cell_type": "markdown",
   "metadata": {},
   "source": [
    "# CPE-341, Quiz 2/2015 \n",
    "# Question Set C\n",
    "\n",
    "- Iteration Design Pattern : List, Dictionary\n",
    "- Using Class `Die` in a List"
   ]
  },
  {
   "cell_type": "code",
   "execution_count": 1,
   "metadata": {
    "collapsed": false
   },
   "outputs": [
    {
     "data": {
      "text/html": [
       "<style>\n",
       "@import url('http://fonts.googleapis.com/css?family=Crimson+Text');\n",
       "@import url('http://fonts.googleapis.com/css?family=Kameron');\n",
       "@import url('http://fonts.googleapis.com/css?family=Lato:200,300,400');\n",
       "@import url('http://fonts.googleapis.com/css?family=Source+Code+Pro');\n",
       "@import url(https://fonts.googleapis.com/css?family=Droid+Sans);\n",
       "\n",
       ".rendered_html {\n",
       "    font-family: \"Droid Sans\", helvetica;\n",
       "    font-size: 110%;\n",
       "    line-height: 1.3;\n",
       "}\n",
       "\n",
       ".rendered_html h1 {\n",
       "    margin: 0.25em 0em 0.5em;\n",
       "    color: #015C9C;\n",
       "    text-align: center;\n",
       "    line-height: 1.2; \n",
       "    page-break-before: always;\n",
       "}\n",
       "\n",
       ".rendered_html h2 {\n",
       "    margin: 1.1em 0em 0.5em;\n",
       "    color: #26465D;\n",
       "    line-height: 1.2;\n",
       "}\n",
       "\n",
       ".rendered_html h3 {\n",
       "    margin: 1.1em 0em 0.5em;\n",
       "    color: #002845;\n",
       "    line-height: 1.2;\n",
       "}\n",
       "\n",
       ".rendered_html li {\n",
       "    line-height: 1.5; \n",
       "}\n",
       "\n",
       "/*.prompt {\n",
       "    font-size: 120%; \n",
       "}*/\n",
       "\n",
       ".CodeMirror-lines {\n",
       "\tfont-family: 'Source Code Pro', Consolas, monocco, monospace; /* Kittima added*/\n",
       "    font-size: 110%; \n",
       "}\n",
       "\n",
       "/*.output_area {\n",
       "    font-size: 120%; \n",
       "}*/\n",
       "\n",
       "/*#notebook {\n",
       "    background-image: url('files/images/witewall_3.png');\n",
       "}*/\n",
       "\n",
       "h1.bigtitle {\n",
       "    margin: 4cm 1cm 4cm 1cm;\n",
       "    font-size: 300%;\n",
       "}\n",
       "\n",
       "h3.point {\n",
       "    font-size: 200%;\n",
       "    text-align: center;\n",
       "    margin: 2em 0em 2em 0em;\n",
       "    #26465D\n",
       "}\n",
       "\n",
       ".logo {\n",
       "    margin: 20px 0 20px 0;\n",
       "}\n",
       "\n",
       "a.anchor-link {\n",
       "    display: none;\n",
       "}\n",
       "\n",
       "h1.title { \n",
       "    font-size: 250%;\n",
       "}\n",
       "\n",
       "\n",
       "/* Kittima added */\n",
       "div.text_cell_render h1,  \n",
       "div.text_cell_render h2,  \n",
       "div.text_cell_render h3,  \n",
       "div.text_cell_render h4,  \n",
       "div.text_cell_render h5,  \n",
       "div.text_cell_render h6 {  \n",
       "    font-family: 'Droid Sans';\n",
       "}\n",
       "\n",
       "div.text_cell {  \n",
       "    max-width: 105ex; /* instead of 100%, */\n",
       "}\n",
       "\n",
       "code {\n",
       "\t/* background-color : #fffffa !important;  */\n",
       "\tbackground-color : #f5f5f5 !important;\n",
       "}\n",
       "</style>"
      ],
      "text/plain": [
       "<IPython.core.display.HTML object>"
      ]
     },
     "metadata": {},
     "output_type": "display_data"
    }
   ],
   "source": [
    "%reload_ext load_style\n",
    "%load_style talk.css"
   ]
  },
  {
   "cell_type": "code",
   "execution_count": 1,
   "metadata": {
    "collapsed": false
   },
   "outputs": [
    {
     "data": {
      "text/plain": [
       "'2017-02-10T02:34:16.762971'"
      ]
     },
     "execution_count": 1,
     "metadata": {},
     "output_type": "execute_result"
    }
   ],
   "source": [
    "## รหัสประจำตัวนักศึกษา : 57113004-6\n",
    "## ชื่อนักศึกษา : ปูรณ์นธิศ กุมาร\n",
    "##\n",
    "## คลิก Run cell นี้เพียงครั้งเดียว\n",
    "##\n",
    "##\n",
    "import datetime\n",
    "datetime.datetime.now().isoformat()"
   ]
  },
  {
   "cell_type": "markdown",
   "metadata": {},
   "source": [
    "## Question 1 ( @2 pt x 2 = 4 pts )\n",
    "\n",
    "### Q1.a \n",
    "จงเขียนคำสั่ง เพื่อพิมพ์ค่าเงินด้วย k = \"50Y\" จาก dict `๋JP_COINS` ซึ่งเก็บค่าเงินของเหรียญเงินเยนญี่ปุ่น"
   ]
  },
  {
   "cell_type": "code",
   "execution_count": 3,
   "metadata": {
    "collapsed": true
   },
   "outputs": [],
   "source": [
    "## ไม่แก้ไขข้อมูลใน cell นี้\n",
    "## dict ที่เก็บรหัสประเภทเหรียญของเงินเยน 6 ชนิด และมูลค่าของเงิน\n",
    "## เช่น key ที่ '50Y' จะมีค่า 50 เยน\n",
    "\n",
    "JP_COINS = { \"1Y\": 1, \"5Y\": 5, \"10Y\": 10, \"50Y\": 50, \"100Y\": 100, \"500Y\": 500 }"
   ]
  },
  {
   "cell_type": "code",
   "execution_count": 37,
   "metadata": {
    "collapsed": false
   },
   "outputs": [
    {
     "name": "stdout",
     "output_type": "stream",
     "text": [
      "50Y\n"
     ]
    }
   ],
   "source": [
    "## ANSWER Q1.a\n",
    "##\n",
    "##\n",
    "k = \"50Y\"\n",
    "print (k)\n"
   ]
  },
  {
   "cell_type": "markdown",
   "metadata": {},
   "source": [
    "### Q1.b \n",
    "จงเขียนคำสั่ง เพื่อพิมพ์ตัวเลขที่มีค่ามากกว่า 50 เยนจาก **dict** ในข้อ (1.a)"
   ]
  },
  {
   "cell_type": "code",
   "execution_count": 39,
   "metadata": {
    "collapsed": false
   },
   "outputs": [
    {
     "name": "stdout",
     "output_type": "stream",
     "text": [
      "500Y\n"
     ]
    }
   ],
   "source": [
    "## ANSWER Q1.b\n",
    "##\n",
    "##\n",
    "k2 = \"500Y\"\n",
    "print (k2)\n",
    "\n"
   ]
  },
  {
   "cell_type": "code",
   "execution_count": null,
   "metadata": {
    "collapsed": true
   },
   "outputs": [],
   "source": []
  },
  {
   "cell_type": "markdown",
   "metadata": {},
   "source": [
    "## Question 2 ( @3 pts x 4 = 12 pts )\n",
    "\n",
    "### Q2.a \n",
    "จงสร้าง **list** เพื่อเก็บข้อมูลตัวเลขลำดับ 11 ... 39  โดยใข้ `range`"
   ]
  },
  {
   "cell_type": "code",
   "execution_count": 55,
   "metadata": {
    "collapsed": false
   },
   "outputs": [
    {
     "name": "stdout",
     "output_type": "stream",
     "text": [
      "11\n",
      "12\n",
      "13\n",
      "14\n",
      "15\n",
      "16\n",
      "17\n",
      "18\n",
      "19\n",
      "20\n",
      "21\n",
      "22\n",
      "23\n",
      "24\n",
      "25\n",
      "26\n",
      "27\n",
      "28\n",
      "29\n",
      "30\n",
      "31\n",
      "32\n",
      "33\n",
      "34\n",
      "35\n",
      "36\n",
      "37\n",
      "38\n",
      "39\n"
     ]
    }
   ],
   "source": [
    "## ANSWER Q2.a\n",
    "##\n",
    "##\n",
    "for list1 in range(11, 40):\n",
    "        print(list1)"
   ]
  },
  {
   "cell_type": "markdown",
   "metadata": {},
   "source": [
    "### Q2.b \n",
    "จงสร้าง **list** เพื่อเก็บ**ตัวเลขสุ่ม** ในช่วง 1-99 จำนวน 10 ตัวเลข โดยใข้ฟังก์ชั่น `randint` จากไลบรารี `random`"
   ]
  },
  {
   "cell_type": "code",
   "execution_count": 18,
   "metadata": {
    "collapsed": false
   },
   "outputs": [
    {
     "ename": "IndentationError",
     "evalue": "unexpected indent (<ipython-input-18-11fc88450fed>, line 6)",
     "output_type": "error",
     "traceback": [
      "\u001b[1;36m  File \u001b[1;32m\"<ipython-input-18-11fc88450fed>\"\u001b[1;36m, line \u001b[1;32m6\u001b[0m\n\u001b[1;33m    random.randrange(10)\u001b[0m\n\u001b[1;37m    ^\u001b[0m\n\u001b[1;31mIndentationError\u001b[0m\u001b[1;31m:\u001b[0m unexpected indent\n"
     ]
    }
   ],
   "source": [
    "## ANSWER Q2.b\n",
    "##\n",
    "from random import randint \n",
    "\n",
    "\n"
   ]
  },
  {
   "cell_type": "code",
   "execution_count": null,
   "metadata": {
    "collapsed": true
   },
   "outputs": [],
   "source": []
  },
  {
   "cell_type": "markdown",
   "metadata": {},
   "source": [
    "### Q2.c \n",
    "จงหาผลรวมของ **list** ต่อไปนี้แล้วเก็บผลลัธ์ไว้ที่ตัวแปร myTotal โดยใข้ฟังก์ชั่น `sum`\n",
    "\n",
    "```\n",
    "myTest = [98, 99, 88, 86, 92]\n",
    "```"
   ]
  },
  {
   "cell_type": "code",
   "execution_count": 19,
   "metadata": {
    "collapsed": false
   },
   "outputs": [
    {
     "data": {
      "text/plain": [
       "463"
      ]
     },
     "execution_count": 19,
     "metadata": {},
     "output_type": "execute_result"
    }
   ],
   "source": [
    "## ANSWER Q2.c\n",
    "##\n",
    "##\n",
    "myTest = [98, 99, 88, 86, 92]\n",
    "sum(myTest)\n",
    "\n",
    "\n"
   ]
  },
  {
   "cell_type": "code",
   "execution_count": null,
   "metadata": {
    "collapsed": true
   },
   "outputs": [],
   "source": []
  },
  {
   "cell_type": "markdown",
   "metadata": {},
   "source": [
    "### Q2.d \n",
    "จงเขียน `def` ชื่อ `sum1_to_N` สำหรับหาผลรวมของเลข integer จาก 1 จนถึง **n** ซึ่งเป็น argument ของฟังก์ชั่น\n",
    "\n",
    "เช่น เมื่อเรียกใช้ `sum1_to_N( n )` จะได้ผลลัพธ์เป็น $ 1 + 2 + 3 + ....  + (n-2) + (n-1) + n $\n"
   ]
  },
  {
   "cell_type": "code",
   "execution_count": 20,
   "metadata": {
    "collapsed": false
   },
   "outputs": [],
   "source": [
    "## ANSWER Q2.d\n",
    "## \n",
    "def sum1_to_N(n):\n",
    "    pass\n",
    "\n"
   ]
  },
  {
   "cell_type": "code",
   "execution_count": 21,
   "metadata": {
    "collapsed": false
   },
   "outputs": [
    {
     "name": "stdout",
     "output_type": "stream",
     "text": [
      "Sum of [1 ... 100] = None\n"
     ]
    }
   ],
   "source": [
    "## Test sum1_to_N()\n",
    "## the result must be 500500\n",
    "##\n",
    "result = sum1_to_N(1000)\n",
    "print( \"Sum of [1 ... {}] = {}\".format(100, result)) "
   ]
  },
  {
   "cell_type": "code",
   "execution_count": 22,
   "metadata": {
    "collapsed": false
   },
   "outputs": [],
   "source": [
    "## Test sum1_to_N() again\n",
    "## the result must be 120\n",
    "##\n",
    "sum1_to_N(15)"
   ]
  },
  {
   "cell_type": "markdown",
   "metadata": {},
   "source": [
    "## Question 3 ( @6 pts x 2 = 12 pts )\n",
    "\n",
    "### Q3.a \n",
    "กำหนดให้ **dict** `THAI_COINS` เก็บค่าเงินของเหรียญไทย 6 ชนิด (ใช้ในคำถาม Q3.b)\n",
    "\n",
    "จงหาจำนวนเหรียญทั้งหมดใน list `my_piggy` ซึ่งเป็นกระปุกเงินเก็บเหรียญ เก็บผลลัพธ์ที่ตัวแปร `count`"
   ]
  },
  {
   "cell_type": "code",
   "execution_count": 15,
   "metadata": {
    "collapsed": false
   },
   "outputs": [],
   "source": [
    "## ไม่แก้ไขข้อมูลใน cell นี้\n",
    "## dict ที่เก็บรหัสประเภทเหรียญของเงินบาท 6 ชนิด และมูลค่าของเงิน\n",
    "## เช่น key ที่ '50S' จะมีค่า 0.50 บาท\n",
    "##\n",
    "\n",
    "THAI_COINS = {\n",
    "    \"25S\": 0.25, \"50S\": 0.50, \"1B\": 1, \"2B\": 2, \"5B\": 5, \"10B\": 10\n",
    "}\n",
    "\n",
    "## mypiggy keeps the number of Thai coins \n",
    "my_piggy = {\n",
    "    \"5B\": 31, \"10B\": 6, \"50S\": 8, \"1B\": 14, \"2B\": 10\n",
    "}"
   ]
  },
  {
   "cell_type": "code",
   "execution_count": 83,
   "metadata": {
    "collapsed": false
   },
   "outputs": [],
   "source": [
    "## ANSWER Q3.a\n",
    "##\n",
    "##\n",
    "count = 0\n",
    "B  = [ \"5B\",\"10B\", \"50S\", \"1B\",\"2B\"]\n",
    "len(B)\n",
    "count = len(B)    \n"
   ]
  },
  {
   "cell_type": "code",
   "execution_count": 84,
   "metadata": {
    "collapsed": false
   },
   "outputs": [
    {
     "name": "stdout",
     "output_type": "stream",
     "text": [
      "จำนวนเหรียญ : 5\n"
     ]
    }
   ],
   "source": [
    "print(\"จำนวนเหรียญ : {}\".format(count) )"
   ]
  },
  {
   "cell_type": "markdown",
   "metadata": {},
   "source": [
    "### Q3.b\n",
    "จงหามูลค่าของเงินทั้งหมดใน list `my_piggy` (หน่วย: บาท)"
   ]
  },
  {
   "cell_type": "code",
   "execution_count": 42,
   "metadata": {
    "collapsed": false
   },
   "outputs": [
    {
     "name": "stdout",
     "output_type": "stream",
     "text": [
      "69 B\n"
     ]
    }
   ],
   "source": [
    "## ANSWER Q3.b\n",
    "##\n",
    "## \n",
    "\n",
    "total = 0.\n",
    "## -------- add your code here\n",
    "A = [31,6,8,14,10]\n",
    "total  = sum(A)\n",
    "\n",
    "print(total,\"B\")"
   ]
  },
  {
   "cell_type": "code",
   "execution_count": null,
   "metadata": {
    "collapsed": false
   },
   "outputs": [],
   "source": []
  },
  {
   "cell_type": "markdown",
   "metadata": {},
   "source": [
    "## Question 4 ( @6 pts x 2 = 12 pts )\n",
    "\n",
    "### Q4.a \n",
    "จาก class `Die` ที่กำหนดให้ จงสร้างลูกเต๋าเก็บไว้ใน list ชื่อ `my4dice` สี่ลูก แล้วหาค่าผลรวมของหน้าลูกเต๋าสี่ลูกนั้น"
   ]
  },
  {
   "cell_type": "code",
   "execution_count": 20,
   "metadata": {
    "collapsed": true
   },
   "outputs": [],
   "source": [
    "## ไม่แก้ไขข้อมูลใน cell นี้\n",
    "from random import randint\n",
    "\n",
    "class Die(object):\n",
    "    def __init__(self):\n",
    "        \"\"\" สร้างลูกเต๋า 1 ลุก 6 หน้า ที่มีค่าเริ่มต้นค่าสุ่ม 1..6 \"\"\"\n",
    "        self.__face = randint(1,6)\n",
    "    @property\n",
    "    def face(self):\n",
    "        \"\"\" return เลขหน้าลูกเต๋า 1..6 \"\"\"\n",
    "        return self.__face\n",
    "    \n",
    "    def roll(self):\n",
    "        \"\"\" ทอดลุกเต๋า เลขหน้าลูกเต๋าจะเปลี่ยนด้วยค่า random 1..6 \"\"\"\n",
    "        self.__face = randint(1,6)\n",
    "        \n",
    "    def __str__(self):\n",
    "        \"\"\" return ข้อความ str, พร้อมกับเลขหน้าลูกเต๋า \"\"\"\n",
    "        return ( \"Die face: {}\".format(self.__face) )\n",
    "        "
   ]
  },
  {
   "cell_type": "code",
   "execution_count": 58,
   "metadata": {
    "collapsed": false
   },
   "outputs": [
    {
     "ename": "NameError",
     "evalue": "name 'Die' is not defined",
     "output_type": "error",
     "traceback": [
      "\u001b[1;31m---------------------------------------------------------------------------\u001b[0m",
      "\u001b[1;31mNameError\u001b[0m                                 Traceback (most recent call last)",
      "\u001b[1;32m<ipython-input-58-92baa5e8d43b>\u001b[0m in \u001b[0;36m<module>\u001b[1;34m()\u001b[0m\n\u001b[0;32m      1\u001b[0m \u001b[1;31m## ตัวอย่างการสร้างลูกเต๋า\u001b[0m\u001b[1;33m\u001b[0m\u001b[1;33m\u001b[0m\u001b[0m\n\u001b[1;32m----> 2\u001b[1;33m \u001b[0md1\u001b[0m \u001b[1;33m=\u001b[0m \u001b[0mDie\u001b[0m\u001b[1;33m(\u001b[0m\u001b[1;33m)\u001b[0m\u001b[1;33m\u001b[0m\u001b[0m\n\u001b[0m\u001b[0;32m      3\u001b[0m \u001b[0md1\u001b[0m\u001b[1;33m.\u001b[0m\u001b[0mface\u001b[0m     \u001b[1;31m# เรียกใช้ @property face\u001b[0m\u001b[1;33m\u001b[0m\u001b[0m\n",
      "\u001b[1;31mNameError\u001b[0m: name 'Die' is not defined"
     ]
    }
   ],
   "source": [
    "## ตัวอย่างการสร้างลูกเต๋า\n",
    "d1 = Die()\n",
    "d1.face     # เรียกใช้ @property face"
   ]
  },
  {
   "cell_type": "code",
   "execution_count": 22,
   "metadata": {
    "collapsed": false
   },
   "outputs": [
    {
     "name": "stdout",
     "output_type": "stream",
     "text": [
      "Die face: 1\n"
     ]
    }
   ],
   "source": [
    "## ตัวอย่างการสร้างลูกเต๋า\n",
    "d2 = Die()\n",
    "print(d2)   # พิมพ์ข้อมูลลูกเต๋า d2"
   ]
  },
  {
   "cell_type": "code",
   "execution_count": 23,
   "metadata": {
    "collapsed": false
   },
   "outputs": [
    {
     "name": "stdout",
     "output_type": "stream",
     "text": [
      "Help on class Die in module __main__:\n",
      "\n",
      "class Die(__builtin__.object)\n",
      " |  Methods defined here:\n",
      " |  \n",
      " |  __init__(self)\n",
      " |      สร้างลูกเต๋า 1 ลุก 6 หน้า ที่มีค่าเริ่มต้นค่าสุ่ม 1..6\n",
      " |  \n",
      " |  __str__(self)\n",
      " |      return ข้อความ str, พร้อมกับเลขหน้าลูกเต๋า\n",
      " |  \n",
      " |  roll(self)\n",
      " |      ทอดลุกเต๋า เลขหน้าลูกเต๋าจะเปลี่ยนด้วยค่า random 1..6\n",
      " |  \n",
      " |  ----------------------------------------------------------------------\n",
      " |  Data descriptors defined here:\n",
      " |  \n",
      " |  __dict__\n",
      " |      dictionary for instance variables (if defined)\n",
      " |  \n",
      " |  __weakref__\n",
      " |      list of weak references to the object (if defined)\n",
      " |  \n",
      " |  face\n",
      " |      return เลขหน้าลูกเต๋า 1..6\n",
      "\n"
     ]
    }
   ],
   "source": [
    "help(Die)"
   ]
  },
  {
   "cell_type": "code",
   "execution_count": 24,
   "metadata": {
    "collapsed": false
   },
   "outputs": [],
   "source": [
    "## ANSWER Q4.a\n",
    "##\n",
    "## สร้างลูกเต๋าเก็บไว้ใน list ชื่อ `my4dice` สี่ลูก \n",
    "## แล้วหาค่าผลรวมของหน้าลูกเต๋าสี่ลูกนั้น\n",
    "## \n",
    "from random import randint\n",
    "\n",
    "class my4dice(object):\n",
    "    def __init__(self):\n",
    "        d1 = Die()\n",
    "        d1.face   \n",
    "        d2 = Die()\n",
    "        d2.face  \n",
    "        d3 = Die()\n",
    "        d3.face  \n",
    "        d4 = Die()\n",
    "        d4.face  \n",
    "        d5 = Die()\n",
    "        d5.face  \n",
    "        d6 = Die()\n",
    "        d6.face  \n",
    "        self.__face = randint(1,6)\n",
    "    @property\n",
    "    def face(self):\n",
    "        \"\"\" return เลขหน้าลูกเต๋า 1..6 \"\"\"\n",
    "        return self.__face\n",
    "    \n",
    "    def roll(self):\n",
    "        \"\"\" ทอดลุกเต๋า เลขหน้าลูกเต๋าจะเปลี่ยนด้วยค่า random 1..6 \"\"\"\n",
    "        self.__face = randint(1,6)\n",
    "        \n",
    "    def __str__(self):\n",
    "        \"\"\" return ข้อความ str, พร้อมกับเลขหน้าลูกเต๋า \"\"\"\n",
    "        return ( \"Die face: {}\".format(self.__face) )\n",
    "\n",
    "\n",
    "\n"
   ]
  },
  {
   "cell_type": "code",
   "execution_count": null,
   "metadata": {
    "collapsed": false
   },
   "outputs": [],
   "source": [
    "\n",
    "    "
   ]
  },
  {
   "cell_type": "markdown",
   "metadata": {},
   "source": [
    "### Q4.b \n",
    "จงปรับปรุุง def `printDice2x1000Stat` เพื่อหาสถิติ (เปอร์เซ็นต์) ของการทอดลูกเต๋า จำนวน 1,000 ครั้ง ที่**ลูกเต๋าสองลูก**มีเลขหน้าตรงกัน โดยพิมพ์สถิติของหน้าลุกเต๋า`"
   ]
  },
  {
   "cell_type": "code",
   "execution_count": 60,
   "metadata": {
    "collapsed": false
   },
   "outputs": [
    {
     "ename": "NameError",
     "evalue": "name 'Die' is not defined",
     "output_type": "error",
     "traceback": [
      "\u001b[1;31m---------------------------------------------------------------------------\u001b[0m",
      "\u001b[1;31mNameError\u001b[0m                                 Traceback (most recent call last)",
      "\u001b[1;32m<ipython-input-60-6d471c4a937f>\u001b[0m in \u001b[0;36m<module>\u001b[1;34m()\u001b[0m\n\u001b[0;32m      1\u001b[0m \u001b[1;31m# ตัวอย่างการทดอลูกเต๋า\u001b[0m\u001b[1;33m\u001b[0m\u001b[1;33m\u001b[0m\u001b[0m\n\u001b[1;32m----> 2\u001b[1;33m \u001b[0md1\u001b[0m \u001b[1;33m=\u001b[0m \u001b[0mDie\u001b[0m\u001b[1;33m(\u001b[0m\u001b[1;33m)\u001b[0m\u001b[1;33m\u001b[0m\u001b[0m\n\u001b[0m\u001b[0;32m      3\u001b[0m \u001b[0mprint\u001b[0m\u001b[1;33m(\u001b[0m \u001b[0md1\u001b[0m\u001b[1;33m.\u001b[0m\u001b[0mface\u001b[0m \u001b[1;33m)\u001b[0m\u001b[1;33m\u001b[0m\u001b[0m\n\u001b[0;32m      4\u001b[0m \u001b[1;33m\u001b[0m\u001b[0m\n\u001b[0;32m      5\u001b[0m \u001b[0md1\u001b[0m\u001b[1;33m.\u001b[0m\u001b[0mroll\u001b[0m\u001b[1;33m(\u001b[0m\u001b[1;33m)\u001b[0m   \u001b[1;31m#ทอดลูกเต๋า 1 ครั้ง\u001b[0m\u001b[1;33m\u001b[0m\u001b[0m\n",
      "\u001b[1;31mNameError\u001b[0m: name 'Die' is not defined"
     ]
    }
   ],
   "source": [
    "# ตัวอย่างการทดอลูกเต๋า\n",
    "d1 = Die()\n",
    "print( d1.face )\n",
    "\n",
    "d1.roll()   #ทอดลูกเต๋า 1 ครั้ง\n",
    "print( d1.face )"
   ]
  },
  {
   "cell_type": "code",
   "execution_count": 30,
   "metadata": {
    "collapsed": false
   },
   "outputs": [],
   "source": [
    "## ANSWER Q4.b\n",
    "##\n",
    "\n",
    "def printDice2x1000Stat( die1, die2 ):\n",
    "    count = 0  # จะเก็บจำนวนครั้งที่ทอดลูกเต๋า แล้วได้เลขหน้า (face) ตรงกัน\n",
    "               # die1.face เป็น 2, die1.face เป็น 2 ด้วย\n",
    "    \n",
    "    numberRolls = 1000\n",
    "    for i in range(numberRolls):\n",
    "        pass\n",
    "    \n",
    "    \n",
    "            \n",
    "    print(\"Number of rolls.....: {:>5d}\".format(numberRolls))\n",
    "    print(\"Count of same face..: {:>5d}\".format(count))\n",
    "    percentage = 100. * count / numberRolls\n",
    "    print(\"Same face ..........: {:>.1f}%\".format(percentage))\n"
   ]
  },
  {
   "cell_type": "code",
   "execution_count": 27,
   "metadata": {
    "collapsed": false
   },
   "outputs": [
    {
     "name": "stdout",
     "output_type": "stream",
     "text": [
      "Number of rolls.....:  1000\n",
      "Count of same face..:   173\n",
      "Same face ..........: 17.3%\n"
     ]
    }
   ],
   "source": [
    "#--- Test the def printDice2x1000Stat ---\n",
    "d1 = Die()\n",
    "d2 = Die() \n",
    "printDice2x1000Stat(d1, d2)\n"
   ]
  },
  {
   "cell_type": "code",
   "execution_count": null,
   "metadata": {
    "collapsed": false
   },
   "outputs": [],
   "source": []
  },
  {
   "cell_type": "code",
   "execution_count": null,
   "metadata": {
    "collapsed": true
   },
   "outputs": [],
   "source": []
  },
  {
   "cell_type": "code",
   "execution_count": 31,
   "metadata": {
    "collapsed": false
   },
   "outputs": [
    {
     "data": {
      "text/plain": [
       "'2016-02-08T22:16:12.332000'"
      ]
     },
     "execution_count": 31,
     "metadata": {},
     "output_type": "execute_result"
    }
   ],
   "source": [
    "import datetime\n",
    "datetime.datetime.now().isoformat()\n",
    "##\n",
    "## รหัสประจำตัวนักศึกษา : 57113004-6\n",
    "##\n",
    "## แล้วคลิก Run cell ครั้งเดียว เมื่อส่งงาน"
   ]
  },
  {
   "cell_type": "markdown",
   "metadata": {},
   "source": [
    "## end of IPynb"
   ]
  }
 ],
 "metadata": {
  "kernelspec": {
   "display_name": "Python 3",
   "language": "python",
   "name": "python3"
  },
  "language_info": {
   "codemirror_mode": {
    "name": "ipython",
    "version": 3
   },
   "file_extension": ".py",
   "mimetype": "text/x-python",
   "name": "python",
   "nbconvert_exporter": "python",
   "pygments_lexer": "ipython3",
   "version": "3.4.4"
  }
 },
 "nbformat": 4,
 "nbformat_minor": 0
}
