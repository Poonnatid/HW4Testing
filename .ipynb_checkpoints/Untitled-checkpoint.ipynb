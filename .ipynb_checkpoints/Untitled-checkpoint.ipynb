{
 "cells": [
  {
   "cell_type": "code",
   "execution_count": 123,
   "metadata": {
    "collapsed": true
   },
   "outputs": [],
   "source": [
    "images = ['IMage/d0.png','IMage/d1.png','IMage/d2.png','IMage/d3.png','IMage/d4.png','IMage/d5.png','IMage/d6.png',]"
   ]
  },
  {
   "cell_type": "code",
   "execution_count": 124,
   "metadata": {
    "collapsed": false
   },
   "outputs": [
    {
     "data": {
      "image/png": "[encoded data removed]",
      "text/plain": [
       "<IPython.core.display.Image object>"
      ]
     },
     "execution_count": 124,
     "metadata": {},
     "output_type": "execute_result"
    }
   ],
   "source": [
    "from IPython.display import Image \n",
    "Image(filename = images[2])"
   ]
  },
  {
   "cell_type": "code",
   "execution_count": 125,
   "metadata": {
    "collapsed": false
   },
   "outputs": [
    {
     "data": {
      "text/html": [
       "<img style='width: 80px; margin: 0px; float: left;  \n",
       "                    border: 1px solid black;' src='IMage/d0.png' />\n",
       "                    <img style='width: 80px; margin: 0px; float: left;  \n",
       "                    border: 1px solid black;' src='IMage/d1.png' />\n",
       "                    <img style='width: 80px; margin: 0px; float: left;  \n",
       "                    border: 1px solid black;' src='IMage/d2.png' />\n",
       "                    <img style='width: 80px; margin: 0px; float: left;  \n",
       "                    border: 1px solid black;' src='IMage/d3.png' />\n",
       "                    <img style='width: 80px; margin: 0px; float: left;  \n",
       "                    border: 1px solid black;' src='IMage/d4.png' />\n",
       "                    <img style='width: 80px; margin: 0px; float: left;  \n",
       "                    border: 1px solid black;' src='IMage/d5.png' />\n",
       "                    <img style='width: 80px; margin: 0px; float: left;  \n",
       "                    border: 1px solid black;' src='IMage/d6.png' />\n",
       "                    "
      ],
      "text/plain": [
       "<IPython.core.display.HTML object>"
      ]
     },
     "metadata": {},
     "output_type": "display_data"
    }
   ],
   "source": [
    "from IPython.display import HTML, Image, display\n",
    "html_string =\"\"\"<img style='width: 80px; margin: 0px; float: left;  \n",
    "                    border: 1px solid black;' src='{}' />\n",
    "                    \"\"\"\n",
    "imageList = [ html_string.format(str(s)) for s in images ]\n",
    "\n",
    "diceImagesList=''.join( imageList )\n",
    "display(HTML(diceImagesList))"
   ]
  },
  {
   "cell_type": "code",
   "execution_count": 126,
   "metadata": {
    "collapsed": false
   },
   "outputs": [],
   "source": [
    "from random import randint\n",
    "class Dice(object):\n",
    "    def __init__(self):\n",
    "        self.__face = randint(1,6)\n",
    "    def roll(self):\n",
    "        self.__face = randint(1,6)\n",
    "    @property\n",
    "    def face(self):\n",
    "        return self.__face"
   ]
  },
  {
   "cell_type": "code",
   "execution_count": 127,
   "metadata": {
    "collapsed": false
   },
   "outputs": [
    {
     "data": {
      "image/png": "[encoded data removed]",
      "text/plain": [
       "<IPython.core.display.Image object>"
      ]
     },
     "execution_count": 127,
     "metadata": {},
     "output_type": "execute_result"
    }
   ],
   "source": [
    "d = Dice()\n",
    "d.roll()\n",
    "Image(filename = images[d.face])"
   ]
  },
  {
   "cell_type": "code",
   "execution_count": 128,
   "metadata": {
    "collapsed": false
   },
   "outputs": [],
   "source": [
    "class HiLo(object): \n",
    "    __d1 = Dice()\n",
    "    __d2 = Dice()\n",
    "    \n",
    "    def __init__(self):\n",
    "        self.__d1.roll()\n",
    "        self.__d2.roll()\n",
    "        \n",
    "    def roll(self):\n",
    "        self.__d1.roll()\n",
    "        self.__d2.roll()\n",
    "        \n",
    "    def dice_faces(self):\n",
    "        return[images[self.__d1.face], images[self.__d2.face]]\n",
    "    \n",
    "    def __repr__(self):\n",
    "        return(\"Dice 1: {}, Dice 2: {}\".format(self.__d1.face,self.__d2.face))"
   ]
  },
  {
   "cell_type": "code",
   "execution_count": 129,
   "metadata": {
    "collapsed": false
   },
   "outputs": [],
   "source": [
    "def showDices(image_list):\n",
    "    html_string =\"\"\"<img style='width: 80px; margin: 0px; float: left;  \n",
    "                    border: 1px solid black;' src='{}' />\n",
    "                    \"\"\"\n",
    "    diceImagesList = ''.join([html_string.format(str(s)) for s in image_list])\n",
    "    display(HTML(diceImagesList))\n",
    "    "
   ]
  },
  {
   "cell_type": "code",
   "execution_count": 132,
   "metadata": {
    "collapsed": false
   },
   "outputs": [
    {
     "data": {
      "text/plain": [
       "Dice 1: 2, Dice 2: 2"
      ]
     },
     "execution_count": 132,
     "metadata": {},
     "output_type": "execute_result"
    }
   ],
   "source": [
    "h = HiLo()\n",
    "h"
   ]
  },
  {
   "cell_type": "code",
   "execution_count": 133,
   "metadata": {
    "collapsed": false
   },
   "outputs": [
    {
     "data": {
      "text/html": [
       "<img style='width: 80px; margin: 0px; float: left;  \n",
       "                    border: 1px solid black;' src='IMage/d5.png' />\n",
       "                    <img style='width: 80px; margin: 0px; float: left;  \n",
       "                    border: 1px solid black;' src='IMage/d6.png' />\n",
       "                    "
      ],
      "text/plain": [
       "<IPython.core.display.HTML object>"
      ]
     },
     "metadata": {},
     "output_type": "display_data"
    }
   ],
   "source": [
    "h = HiLo()\n",
    "showDices( h.dice_faces() )"
   ]
  },
  {
   "cell_type": "code",
   "execution_count": 134,
   "metadata": {
    "collapsed": false
   },
   "outputs": [
    {
     "data": {
      "text/html": [
       "<img style='width: 80px; margin: 0px; float: left;  \n",
       "                    border: 1px solid black;' src='IMage/d2.png' />\n",
       "                    <img style='width: 80px; margin: 0px; float: left;  \n",
       "                    border: 1px solid black;' src='IMage/d3.png' />\n",
       "                    "
      ],
      "text/plain": [
       "<IPython.core.display.HTML object>"
      ]
     },
     "metadata": {},
     "output_type": "display_data"
    }
   ],
   "source": [
    "h.roll()\n",
    "showDices( h.dice_faces() )"
   ]
  },
  {
   "cell_type": "code",
   "execution_count": null,
   "metadata": {
    "collapsed": true
   },
   "outputs": [],
   "source": []
  },
  {
   "cell_type": "code",
   "execution_count": null,
   "metadata": {
    "collapsed": true
   },
   "outputs": [],
   "source": []
  }
 ],
 "metadata": {
  "kernelspec": {
   "display_name": "Python 3",
   "language": "python",
   "name": "python3"
  },
  "language_info": {
   "codemirror_mode": {
    "name": "ipython",
    "version": 3
   },
   "file_extension": ".py",
   "mimetype": "text/x-python",
   "name": "python",
   "nbconvert_exporter": "python",
   "pygments_lexer": "ipython3",
   "version": "3.4.4"
  }
 },
 "nbformat": 4,
 "nbformat_minor": 0
}
